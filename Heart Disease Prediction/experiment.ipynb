{
 "cells": [
  {
   "cell_type": "code",
   "execution_count": 10,
   "id": "bb8ff963",
   "metadata": {},
   "outputs": [],
   "source": [
    "import pandas as pd\n",
    "import numpy as np\n",
    "from sklearn import preprocessing\n",
    "import matplotlib.pyplot as plt\n",
    "import seaborn as sns\n",
    "from sklearn.model_selection import train_test_split\n",
    "from sklearn.linear_model import LogisticRegression\n",
    "from sklearn.metrics import accuracy_score\n",
    "from sklearn.metrics import confusion_matrix, classification_report\n",
    "from sklearn.utils import resample"
   ]
  },
  {
   "cell_type": "code",
   "execution_count": 23,
   "id": "abc43e73",
   "metadata": {},
   "outputs": [],
   "source": [
    "disease_df = pd.read_csv(\"framingham.csv\")\n",
    "# disease_df.drop(columns=[])\n",
    "disease_df.dropna(axis=0, inplace=True)"
   ]
  },
  {
   "cell_type": "code",
   "execution_count": null,
   "id": "3891773c",
   "metadata": {},
   "outputs": [],
   "source": [
    "X = np.asarray(disease_df[['age', 'male', 'cigsPerDay',\n",
    "                           'totChol', 'sysBP', 'glucose']])\n",
    "y = np.asarray(disease_df['TenYearCHD'])\n",
    "\n",
    "## Downsample\n",
    "X_majority = X[y==0]\n",
    "y_majority = y[y==0]\n",
    "X_minority = X[y==1]\n",
    "y_minority = y[y==1]\n",
    "\n",
    "X_majority_downsampled, y_majority_downsampled = resample(X_minority, y_minority,\n",
    "         replace=True,\n",
    "         n_samples=len(X_majority),\n",
    "         random_state=42)\n",
    "\n",
    "X_downsampled = np.vstack((X_majority_downsampled, X_minority))\n",
    "y_downsampled = np.hstack((y_majority_downsampled, y_minority))\n",
    "\n",
    "X = X_downsampled\n",
    "y = y_downsampled\n",
    "\n",
    "X = preprocessing.StandardScaler().fit(X).transform(X)\n",
    "\n",
    "X_train, X_test, y_train, y_test = train_test_split(X, y, test_size=0.1, random_state=4)"
   ]
  },
  {
   "cell_type": "code",
   "execution_count": 31,
   "id": "95aebcf2",
   "metadata": {},
   "outputs": [
    {
     "data": {
      "text/plain": [
       "Counter({np.int64(1): 3658})"
      ]
     },
     "execution_count": 31,
     "metadata": {},
     "output_type": "execute_result"
    }
   ],
   "source": [
    "from collections import Counter\n",
    "Counter(y)"
   ]
  },
  {
   "cell_type": "code",
   "execution_count": 27,
   "id": "53911add",
   "metadata": {},
   "outputs": [
    {
     "ename": "ValueError",
     "evalue": "This solver needs samples of at least 2 classes in the data, but the data contains only one class: np.int64(1)",
     "output_type": "error",
     "traceback": [
      "\u001b[31m---------------------------------------------------------------------------\u001b[39m",
      "\u001b[31mValueError\u001b[39m                                Traceback (most recent call last)",
      "\u001b[36mCell\u001b[39m\u001b[36m \u001b[39m\u001b[32mIn[27]\u001b[39m\u001b[32m, line 2\u001b[39m\n\u001b[32m      1\u001b[39m logreg = LogisticRegression()\n\u001b[32m----> \u001b[39m\u001b[32m2\u001b[39m \u001b[43mlogreg\u001b[49m\u001b[43m.\u001b[49m\u001b[43mfit\u001b[49m\u001b[43m(\u001b[49m\u001b[43mX_train\u001b[49m\u001b[43m,\u001b[49m\u001b[43m \u001b[49m\u001b[43my_train\u001b[49m\u001b[43m)\u001b[49m\n\u001b[32m      3\u001b[39m y_pred = logreg.predict(X_test)\n",
      "\u001b[36mFile \u001b[39m\u001b[32md:\\Machine Learning Projects\\.venv\\Lib\\site-packages\\sklearn\\base.py:1365\u001b[39m, in \u001b[36mwrapper\u001b[39m\u001b[34m(estimator, *args, **kwargs)\u001b[39m\n\u001b[32m   1347\u001b[39m \u001b[38;5;28;01mdef\u001b[39;00m\u001b[38;5;250m \u001b[39m\u001b[34m_fit_context\u001b[39m(*, prefer_skip_nested_validation):\n\u001b[32m   1348\u001b[39m \u001b[38;5;250m    \u001b[39m\u001b[33;03m\"\"\"Decorator to run the fit methods of estimators within context managers.\u001b[39;00m\n\u001b[32m   1349\u001b[39m \n\u001b[32m   1350\u001b[39m \u001b[33;03m    Parameters\u001b[39;00m\n\u001b[32m   1351\u001b[39m \u001b[33;03m    ----------\u001b[39;00m\n\u001b[32m   1352\u001b[39m \u001b[33;03m    prefer_skip_nested_validation : bool\u001b[39;00m\n\u001b[32m   1353\u001b[39m \u001b[33;03m        If True, the validation of parameters of inner estimators or functions\u001b[39;00m\n\u001b[32m   1354\u001b[39m \u001b[33;03m        called during fit will be skipped.\u001b[39;00m\n\u001b[32m   1355\u001b[39m \n\u001b[32m   1356\u001b[39m \u001b[33;03m        This is useful to avoid validating many times the parameters passed by the\u001b[39;00m\n\u001b[32m   1357\u001b[39m \u001b[33;03m        user from the public facing API. It's also useful to avoid validating\u001b[39;00m\n\u001b[32m   1358\u001b[39m \u001b[33;03m        parameters that we pass internally to inner functions that are guaranteed to\u001b[39;00m\n\u001b[32m   1359\u001b[39m \u001b[33;03m        be valid by the test suite.\u001b[39;00m\n\u001b[32m   1360\u001b[39m \n\u001b[32m   1361\u001b[39m \u001b[33;03m        It should be set to True for most estimators, except for those that receive\u001b[39;00m\n\u001b[32m   1362\u001b[39m \u001b[33;03m        non-validated objects as parameters, such as meta-estimators that are given\u001b[39;00m\n\u001b[32m   1363\u001b[39m \u001b[33;03m        estimator objects.\u001b[39;00m\n\u001b[32m   1364\u001b[39m \n\u001b[32m-> \u001b[39m\u001b[32m1365\u001b[39m \u001b[33;03m    Returns\u001b[39;00m\n\u001b[32m   1366\u001b[39m \u001b[33;03m    -------\u001b[39;00m\n\u001b[32m   1367\u001b[39m \u001b[33;03m    decorated_fit : method\u001b[39;00m\n\u001b[32m   1368\u001b[39m \u001b[33;03m        The decorated fit method.\u001b[39;00m\n\u001b[32m   1369\u001b[39m \u001b[33;03m    \"\"\"\u001b[39;00m\n\u001b[32m   1371\u001b[39m     \u001b[38;5;28;01mdef\u001b[39;00m\u001b[38;5;250m \u001b[39m\u001b[34mdecorator\u001b[39m(fit_method):\n\u001b[32m   1372\u001b[39m         \u001b[38;5;129m@functools\u001b[39m.wraps(fit_method)\n\u001b[32m   1373\u001b[39m         \u001b[38;5;28;01mdef\u001b[39;00m\u001b[38;5;250m \u001b[39m\u001b[34mwrapper\u001b[39m(estimator, *args, **kwargs):\n",
      "\u001b[36mFile \u001b[39m\u001b[32md:\\Machine Learning Projects\\.venv\\Lib\\site-packages\\sklearn\\linear_model\\_logistic.py:1335\u001b[39m, in \u001b[36mfit\u001b[39m\u001b[34m(self, X, y, sample_weight)\u001b[39m\n\u001b[32m      0\u001b[39m <Error retrieving source code with stack_data see ipython/ipython#13598>\n",
      "\u001b[31mValueError\u001b[39m: This solver needs samples of at least 2 classes in the data, but the data contains only one class: np.int64(1)"
     ]
    }
   ],
   "source": [
    "logreg = LogisticRegression()\n",
    "logreg.fit(X_train, y_train)\n",
    "y_pred = logreg.predict(X_test)"
   ]
  },
  {
   "cell_type": "code",
   "execution_count": 28,
   "id": "66487583",
   "metadata": {},
   "outputs": [
    {
     "ename": "ValueError",
     "evalue": "Found input variables with inconsistent numbers of samples: [1098, 335]",
     "output_type": "error",
     "traceback": [
      "\u001b[31m---------------------------------------------------------------------------\u001b[39m",
      "\u001b[31mValueError\u001b[39m                                Traceback (most recent call last)",
      "\u001b[36mCell\u001b[39m\u001b[36m \u001b[39m\u001b[32mIn[28]\u001b[39m\u001b[32m, line 1\u001b[39m\n\u001b[32m----> \u001b[39m\u001b[32m1\u001b[39m \u001b[38;5;28mprint\u001b[39m (\u001b[43maccuracy_score\u001b[49m\u001b[43m(\u001b[49m\u001b[43my_test\u001b[49m\u001b[43m,\u001b[49m\u001b[43m \u001b[49m\u001b[43my_pred\u001b[49m\u001b[43m)\u001b[49m)\n\u001b[32m      2\u001b[39m \u001b[38;5;28mprint\u001b[39m (classification_report(y_test, y_pred))\n",
      "\u001b[36mFile \u001b[39m\u001b[32md:\\Machine Learning Projects\\.venv\\Lib\\site-packages\\sklearn\\utils\\_param_validation.py:218\u001b[39m, in \u001b[36mwrapper\u001b[39m\u001b[34m(*args, **kwargs)\u001b[39m\n\u001b[32m    211\u001b[39m     with config_context(\n\u001b[32m    212\u001b[39m         skip_parameter_validation=(\n\u001b[32m    213\u001b[39m             prefer_skip_nested_validation or global_skip_validation\n\u001b[32m    214\u001b[39m         )\n\u001b[32m    215\u001b[39m     ):\n\u001b[32m    216\u001b[39m         return func(*args, **kwargs)\n\u001b[32m    217\u001b[39m except InvalidParameterError as e:\n\u001b[32m--> \u001b[39m\u001b[32m218\u001b[39m     # When the function is just a wrapper around an estimator, we allow\n\u001b[32m    219\u001b[39m     # the function to delegate validation to the estimator, but we replace\n\u001b[32m    220\u001b[39m     # the name of the estimator by the name of the function in the error\n\u001b[32m    221\u001b[39m     # message to avoid confusion.\n\u001b[32m    222\u001b[39m     msg = re.sub(\n\u001b[32m    223\u001b[39m         r\"parameter of \\w+ must be\",\n\u001b[32m    224\u001b[39m         f\"parameter of {func.__qualname__} must be\",\n\u001b[32m    225\u001b[39m         str(e),\n\u001b[32m    226\u001b[39m     )\n\u001b[32m    227\u001b[39m     raise InvalidParameterError(msg) from e\n",
      "\u001b[36mFile \u001b[39m\u001b[32md:\\Machine Learning Projects\\.venv\\Lib\\site-packages\\sklearn\\metrics\\_classification.py:359\u001b[39m, in \u001b[36maccuracy_score\u001b[39m\u001b[34m(y_true, y_pred, normalize, sample_weight)\u001b[39m\n\u001b[32m    357\u001b[39m     sample_weight = np.ones(y_true.shape[\u001b[32m0\u001b[39m], dtype=np.int64)\n\u001b[32m    358\u001b[39m \u001b[38;5;28;01melse\u001b[39;00m:\n\u001b[32m--> \u001b[39m\u001b[32m359\u001b[39m     sample_weight = np.asarray(sample_weight)\n\u001b[32m    361\u001b[39m check_consistent_length(y_true, y_pred, sample_weight)\n\u001b[32m    363\u001b[39m n_labels = labels.size\n",
      "\u001b[36mFile \u001b[39m\u001b[32md:\\Machine Learning Projects\\.venv\\Lib\\site-packages\\sklearn\\metrics\\_classification.py:97\u001b[39m, in \u001b[36m_check_targets\u001b[39m\u001b[34m(y_true, y_pred)\u001b[39m\n\u001b[32m     70\u001b[39m \u001b[38;5;28;01mdef\u001b[39;00m\u001b[38;5;250m \u001b[39m\u001b[34m_check_targets\u001b[39m(y_true, y_pred):\n\u001b[32m     71\u001b[39m \u001b[38;5;250m    \u001b[39m\u001b[33;03m\"\"\"Check that y_true and y_pred belong to the same classification task.\u001b[39;00m\n\u001b[32m     72\u001b[39m \n\u001b[32m     73\u001b[39m \u001b[33;03m    This converts multiclass or binary types to a common shape, and raises a\u001b[39;00m\n\u001b[32m   (...)\u001b[39m\u001b[32m     95\u001b[39m \u001b[33;03m    y_pred : array or indicator matrix\u001b[39;00m\n\u001b[32m     96\u001b[39m \u001b[33;03m    \"\"\"\u001b[39;00m\n\u001b[32m---> \u001b[39m\u001b[32m97\u001b[39m     xp, _ = get_namespace(y_true, y_pred)\n\u001b[32m     98\u001b[39m     check_consistent_length(y_true, y_pred)\n\u001b[32m     99\u001b[39m     type_true = type_of_target(y_true, input_name=\u001b[33m\"\u001b[39m\u001b[33my_true\u001b[39m\u001b[33m\"\u001b[39m)\n",
      "\u001b[36mFile \u001b[39m\u001b[32md:\\Machine Learning Projects\\.venv\\Lib\\site-packages\\sklearn\\utils\\validation.py:473\u001b[39m, in \u001b[36mcheck_consistent_length\u001b[39m\u001b[34m(*arrays)\u001b[39m\n\u001b[32m    455\u001b[39m \u001b[38;5;250m\u001b[39m\u001b[33;03m\"\"\"Check that all arrays have consistent first dimensions.\u001b[39;00m\n\u001b[32m    456\u001b[39m \n\u001b[32m    457\u001b[39m \u001b[33;03mChecks whether all objects in arrays have the same shape or length.\u001b[39;00m\n\u001b[32m   (...)\u001b[39m\u001b[32m    469\u001b[39m \u001b[33;03m>>> check_consistent_length(a, b)\u001b[39;00m\n\u001b[32m    470\u001b[39m \u001b[33;03m\"\"\"\u001b[39;00m\n\u001b[32m    472\u001b[39m lengths = [_num_samples(X) \u001b[38;5;28;01mfor\u001b[39;00m X \u001b[38;5;129;01min\u001b[39;00m arrays \u001b[38;5;28;01mif\u001b[39;00m X \u001b[38;5;129;01mis\u001b[39;00m \u001b[38;5;129;01mnot\u001b[39;00m \u001b[38;5;28;01mNone\u001b[39;00m]\n\u001b[32m--> \u001b[39m\u001b[32m473\u001b[39m uniques = np.unique(lengths)\n\u001b[32m    474\u001b[39m \u001b[38;5;28;01mif\u001b[39;00m \u001b[38;5;28mlen\u001b[39m(uniques) > \u001b[32m1\u001b[39m:\n\u001b[32m    475\u001b[39m     \u001b[38;5;28;01mraise\u001b[39;00m \u001b[38;5;167;01mValueError\u001b[39;00m(\n\u001b[32m    476\u001b[39m         \u001b[33m\"\u001b[39m\u001b[33mFound input variables with inconsistent numbers of samples: \u001b[39m\u001b[38;5;132;01m%r\u001b[39;00m\u001b[33m\"\u001b[39m\n\u001b[32m    477\u001b[39m         % [\u001b[38;5;28mint\u001b[39m(l) \u001b[38;5;28;01mfor\u001b[39;00m l \u001b[38;5;129;01min\u001b[39;00m lengths]\n\u001b[32m    478\u001b[39m     )\n",
      "\u001b[31mValueError\u001b[39m: Found input variables with inconsistent numbers of samples: [1098, 335]"
     ]
    }
   ],
   "source": [
    "print (accuracy_score(y_test, y_pred))\n",
    "print (classification_report(y_test, y_pred))"
   ]
  },
  {
   "cell_type": "code",
   "execution_count": 16,
   "id": "0f615b12",
   "metadata": {},
   "outputs": [
    {
     "data": {
      "image/png": "[encoded data removed]",
      "text/plain": [
       "<Figure size 800x500 with 2 Axes>"
      ]
     },
     "metadata": {},
     "output_type": "display_data"
    }
   ],
   "source": [
    "cm = confusion_matrix(y_test, y_pred)\n",
    "conf_matrix = pd.DataFrame(data=cm,\n",
    "                           columns=['Predicted:0', 'Predicted:1'],\n",
    "                           index=['Actual:0', 'Actual:1'])\n",
    "\n",
    "plt.figure(figsize=(8, 5))\n",
    "sns.heatmap(conf_matrix, annot= True, fmt='d', cmap='Greens')\n",
    "plt.show()"
   ]
  },
  {
   "cell_type": "code",
   "execution_count": 17,
   "id": "f31bb016",
   "metadata": {},
   "outputs": [
    {
     "data": {
      "text/plain": [
       "1114"
      ]
     },
     "execution_count": 17,
     "metadata": {},
     "output_type": "execute_result"
    }
   ],
   "source": [
    "len(X)"
   ]
  }
 ],
 "metadata": {
  "kernelspec": {
   "display_name": ".venv",
   "language": "python",
   "name": "python3"
  },
  "language_info": {
   "codemirror_mode": {
    "name": "ipython",
    "version": 3
   },
   "file_extension": ".py",
   "mimetype": "text/x-python",
   "name": "python",
   "nbconvert_exporter": "python",
   "pygments_lexer": "ipython3",
   "version": "3.11.9"
  }
 },
 "nbformat": 4,
 "nbformat_minor": 5
}
